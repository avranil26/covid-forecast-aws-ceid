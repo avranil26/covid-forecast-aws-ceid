{
 "cells": [
  {
   "cell_type": "code",
   "execution_count": 1,
   "id": "b50143ca-83a4-4286-bf90-490b0a606213",
   "metadata": {},
   "outputs": [],
   "source": [
    "import datetime\n",
    "from datetime import date\n",
    "import pandas as pd\n",
    "import boto3\n",
    "from io import BytesIO, StringIO"
   ]
  },
  {
   "cell_type": "code",
   "execution_count": null,
   "id": "69c6a1db-bf27-4b11-afee-af6aa0d1aaec",
   "metadata": {},
   "outputs": [],
   "source": [
    "def handler(event, context):\n",
    "    \n",
    "    client = boto3.client('s3', region_name='us-east-1')\n",
    "    \n",
    "    bucket = event['Records'][0]['s3']['bucket']['name']\n",
    "    key = urllib.parse.unquote_plus(event['Records'][0]['s3']['object']['key'], encoding='utf-8')\n",
    "    \n",
    "    response = client.get_object(Bucket= bucket, Key= key)\n",
    "    \n",
    "    if response[\"LastModified\"].weekday() == #0\n",
    "    \n",
    "        df = pd.read_csv(BytesIO(response['Body'].read()))\n",
    "        processed_df = df[df[\"country_region_code\"]== \"US\"]\n",
    "\n",
    "        dataframe_to_s3(client, processed_df, bucket_name = bucket, \n",
    "                        filepath= \"google-mobility-reports-wayback-parquet/\" + str(date.today()) + \"/US-states-mobility.parquet\", \n",
    "                        format = 'parquet')\n",
    "\n",
    "    else:\n",
    "    \n",
    "    print(\"Last update date is not monday\")\n",
    "    #add delete for later on"
   ]
  },
  {
   "cell_type": "code",
   "execution_count": 6,
   "id": "c3fc2984-9627-4317-a42d-911d052dbbfa",
   "metadata": {},
   "outputs": [],
   "source": [
    "def dataframe_to_s3(s3_client, input_datafame, bucket_name, filepath, format):\n",
    "\n",
    "        if format == 'parquet':\n",
    "            out_buffer = BytesIO()\n",
    "            input_datafame.to_parquet(out_buffer, index=False)\n",
    "\n",
    "        elif format == 'csv':\n",
    "            out_buffer = StringIO()\n",
    "            input_datafame.to_parquet(out_buffer, index=False)\n",
    "\n",
    "        s3_client.put_object(Bucket=bucket_name, Key=filepath, Body=out_buffer.getvalue())\n"
   ]
  },
  {
   "cell_type": "raw",
   "id": "41e0aaa6-5dc8-4de2-8514-a28b8a6d6c30",
   "metadata": {},
   "source": [
    "client = boto3.client('s3', region_name='us-east-1')\n",
    "bucket = \"covid19-data-acquisitions\"\n",
    "key = \"google-covid-19-community-mobility-reports/google-covid-19-community-mobility-reports/dataset/google-covid-19-community-mobility-reports.csv\"\n",
    "response = client.get_object(Bucket= bucket, Key= key)\n",
    "\n",
    "if response[\"LastModified\"].weekday() == 4:#0\n",
    "    \n",
    "    df = pd.read_csv(BytesIO(response['Body'].read()))\n",
    "    processed_df = df[df[\"country_region_code\"]== \"US\"]\n",
    "\n",
    "    dataframe_to_s3(client, processed_df, bucket_name = bucket,\n",
    "                    filepath= \"google-mobility-reports-wayback-parquet/\" + str(date.today()) + \"/US-states-mobility.parquet\", \n",
    "                    format = 'parquet')\n",
    "else:\n",
    "    \n",
    "    print(\"Last update date is not monday\")\n",
    "    #add delete for later on"
   ]
  }
 ],
 "metadata": {
  "kernelspec": {
   "display_name": "ceid",
   "language": "python",
   "name": "ceid"
  },
  "language_info": {
   "codemirror_mode": {
    "name": "ipython",
    "version": 3
   },
   "file_extension": ".py",
   "mimetype": "text/x-python",
   "name": "python",
   "nbconvert_exporter": "python",
   "pygments_lexer": "ipython3",
   "version": "3.9.5"
  }
 },
 "nbformat": 4,
 "nbformat_minor": 5
}
