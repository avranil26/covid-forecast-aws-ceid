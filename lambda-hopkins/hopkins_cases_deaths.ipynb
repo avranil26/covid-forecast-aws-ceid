{
 "cells": [
  {
   "cell_type": "code",
   "execution_count": 1,
   "id": "b1b1d147-b7e6-4c1c-8619-298894c3711f",
   "metadata": {},
   "outputs": [],
   "source": [
    "import covidcast, os\n",
    "\n",
    "from datetime import date\n",
    "import pandas as pd\n",
    "import boto3\n",
    "\n",
    "from io import StringIO, BytesIO"
   ]
  },
  {
   "cell_type": "code",
   "execution_count": null,
   "id": "f17b5e44-c7d6-41d9-9d63-278d1dc2187e",
   "metadata": {},
   "outputs": [
    {
     "ename": "IndentationError",
     "evalue": "unexpected indent (2154442520.py, line 3)",
     "output_type": "error",
     "traceback": [
      "\u001b[0;36m  File \u001b[0;32m\"/var/folders/hs/znsb6wnx265cvhjypztrq44c0000gn/T/ipykernel_74689/2154442520.py\"\u001b[0;36m, line \u001b[0;32m3\u001b[0m\n\u001b[0;31m    bucket_name = os.environ.get('bucket_name')\u001b[0m\n\u001b[0m    ^\u001b[0m\n\u001b[0;31mIndentationError\u001b[0m\u001b[0;31m:\u001b[0m unexpected indent\n"
     ]
    }
   ],
   "source": [
    "def handler(event, context):\n",
    "    \n",
    "    bucket_name = os.environ.get('bucket_name')\n",
    "    client = boto3.client('s3', region_name='us-east-1')\n",
    "    client_athena = boto3.client('glue', region_name='us-east-1')\n",
    "\n",
    "    # Incidence Cases\n",
    "    incidence_cases_data = data_as_of_date(signal=\"confirmed_incidence_num\", geo_type=\"state\")\n",
    "    incidence_cases_data[\"target_type\"] = \"day ahead inc case\"\n",
    "\n",
    "    # Incidence Deaths\n",
    "    incidence_deaths_data = data_as_of_date(signal=\"deaths_incidence_num\", geo_type=\"state\")\n",
    "    incidence_deaths_data[\"target_type\"] = \"day ahead inc death\"\n",
    "    \n",
    "    #cumulative dealths\n",
    "    cumulative_deaths_data = data_as_of_date(signal=\"deaths_cumulative_num\", geo_type=\"state\")\n",
    "    cumulative_deaths_data[\"target_type\"] = \"day ahead cum death\"\n",
    "\n",
    "    final_data = pd.concat([incidence_cases_data, incidence_deaths_data, cumulative_deaths_data], axis=0)    \n",
    "    \n",
    "    final_data['geo_value'] = final_data[\"geo_value\"].str.upper()\n",
    "    final_data.rename(columns={'geo_value': 'location', 'time_value': 'target_end_date'}, inplace = True)\n",
    "\n",
    "    locations = pd.read_csv(\"abb2fips.csv\", dtype={\n",
    "                     'state_code': str\n",
    "                     })\n",
    "\n",
    "    mapping = dict(zip(locations.state, locations.state_code))\n",
    "    final_data[\"location\"] = final_data['location'].map(mapping)\n",
    "\n",
    "    final_data['value'] = final_data['value'].astype(str).astype(float)\n",
    "\n",
    "    final_data = final_data[final_data['location'].notna()]\n",
    "    \n",
    "    \n",
    "    dataframe_to_s3(client, final_data, bucket_name = bucket_name, \n",
    "                    filepath= \"hopkins-reformatted/\" + str(date.today()) + \"/time-series-covid19-US.parquet\", \n",
    "                    format = 'parquet')\n",
    "    \n",
    "    response = client_athena.start_crawler(Name='hopkins-csse')"
   ]
  },
  {
   "cell_type": "code",
   "execution_count": 2,
   "id": "d4dd8daa-20f5-4e27-9cc3-88b72c300631",
   "metadata": {},
   "outputs": [],
   "source": [
    "def data_as_of_date(signal, geo_type):\n",
    "    data = covidcast.signal(data_source= \"jhu-csse\",signal= signal, as_of= date.today(),\n",
    "    #start_day=date(2020, 1, 1), end_day=date.today(),\n",
    "    geo_type=geo_type)\n",
    "\n",
    "    #data['geo_value'] = data[\"geo_value\"].str.upper()\n",
    "\n",
    "    data = data[[\"geo_value\", \"time_value\", \"value\"]]\n",
    "    return data"
   ]
  },
  {
   "cell_type": "code",
   "execution_count": 5,
   "id": "5340400b-0cb6-4d61-9882-998c524108cb",
   "metadata": {},
   "outputs": [],
   "source": [
    "def dataframe_to_s3(s3_client, input_datafame, bucket_name, filepath, format):\n",
    "\n",
    "        if format == 'parquet':\n",
    "            out_buffer = BytesIO()\n",
    "            input_datafame.to_parquet(out_buffer, index=False)\n",
    "\n",
    "        elif format == 'csv':\n",
    "            out_buffer = StringIO()\n",
    "            input_datafame.to_parquet(out_buffer, index=False)\n",
    "\n",
    "        s3_client.put_object(Bucket=bucket_name, Key=filepath, Body=out_buffer.getvalue())\n"
   ]
  },
  {
   "cell_type": "code",
   "execution_count": 10,
   "id": "481efda8-40e8-480a-afb9-40003e47599a",
   "metadata": {},
   "outputs": [],
   "source": [
    "#incidence_cases_data = data_as_of_date(signal=\"confirmed_incidence_num\", geo_type=\"state\")"
   ]
  },
  {
   "cell_type": "code",
   "execution_count": 30,
   "id": "16c81855-d7ff-4f86-95dd-2a6c64e3fe87",
   "metadata": {},
   "outputs": [],
   "source": [
    "#incidence_deaths_data = data_as_of_date(signal=\"deaths_incidence_num\", geo_type=\"state\")"
   ]
  },
  {
   "cell_type": "code",
   "execution_count": 34,
   "id": "a0d22cf7-6a05-4997-8790-b96cf5b00ed7",
   "metadata": {},
   "outputs": [],
   "source": [
    "# Cumulative Cases\n",
    "\n",
    "#cumulative_cases = covidcast.signal(data_source= \"jhu-csse\",signal= \"confirmed_cumulative_num\", as_of= date.today(), geo_type=\"state\")\n",
    "#cumulative_cases['geo_value'] = cumulative_cases[\"geo_value\"].str.upper()\n",
    "#cumulative_cases = cumulative_cases[[\"geo_value\", \"time_value\", \"value\"]]\n",
    "\n",
    "# Incidence Cases\n",
    "\n",
    "#incidence_cases = covidcast.signal(data_source= \"jhu-csse\",signal= \"confirmed_incidence_num\", as_of= date.today(), geo_type=\"state\")\n",
    "#incidence_cases['geo_value'] = incidence_cases[\"geo_value\"].str.upper()\n",
    "#incidence_cases = incidence_cases[[\"geo_value\", \"time_value\", \"value\"]]\n",
    "\n",
    "# Cumulative Deaths\n",
    "\n",
    "\n",
    "#cumulative_deaths = covidcast.signal(data_source= \"jhu-csse\",signal= \"deaths_cumulative_num\", as_of= date.today(), geo_type=\"state\")\n",
    "#cumulative_deaths['geo_value'] = cumulative_deaths[\"geo_value\"].str.upper()\n",
    "#cumulative_deaths = cumulative_deaths[[\"geo_value\", \"time_value\", \"value\"]]\n",
    "\n",
    "# Incidence Deaths\n",
    "\n",
    "#incidence_deaths = covidcast.signal(data_source= \"jhu-csse\",signal= \"deaths_incidence_num\", as_of= date.today(), geo_type=\"state\")\n",
    "#incidence_deaths['geo_value'] = incidence_deaths[\"geo_value\"].str.upper()\n",
    "#incidence_deaths = incidence_deaths[[\"geo_value\", \"time_value\", \"value\"]]"
   ]
  }
 ],
 "metadata": {
  "kernelspec": {
   "display_name": "ceid",
   "language": "python",
   "name": "ceid"
  },
  "language_info": {
   "codemirror_mode": {
    "name": "ipython",
    "version": 3
   },
   "file_extension": ".py",
   "mimetype": "text/x-python",
   "name": "python",
   "nbconvert_exporter": "python",
   "pygments_lexer": "ipython3",
   "version": "3.9.5"
  }
 },
 "nbformat": 4,
 "nbformat_minor": 5
}
